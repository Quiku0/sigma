{
 "cells": [
  {
   "cell_type": "markdown",
   "id": "e797b482",
   "metadata": {},
   "source": [
    "# Tutoriel package"
   ]
  },
  {
   "cell_type": "markdown",
   "id": "940e1b6f",
   "metadata": {},
   "source": [
    "Pour l'installation regarder README.\n",
    "\n",
    "Pour bien comprendre ce petit tutoriel, un connaissance des algorithme du ducument Exact Matching of Random Graphs with Constant Correlation est nécessaire.\n",
    "## Importation du paquet"
   ]
  },
  {
   "cell_type": "code",
   "execution_count": 1,
   "id": "18c00442",
   "metadata": {},
   "outputs": [],
   "source": [
    "import sigmaV1\n",
    "import numpy as np"
   ]
  },
  {
   "cell_type": "markdown",
   "id": "d00c0b17",
   "metadata": {},
   "source": [
    "une seul fonction existe dans ce paquet qui est sigma()\n",
    "## Erdös-Rényi Normal\n",
    "On definie 2 graph de même nombre de noeud sous forme de matrice d'ajacente (type Array)."
   ]
  },
  {
   "cell_type": "code",
   "execution_count": 2,
   "id": "10cf3a8b",
   "metadata": {},
   "outputs": [
    {
     "name": "stdout",
     "output_type": "stream",
     "text": [
      "[[0. 0. 0. 0. 0. 0. 0. 1. 0. 0.]\n",
      " [0. 0. 0. 0. 0. 0. 0. 1. 1. 0.]\n",
      " [0. 0. 0. 1. 1. 0. 0. 0. 0. 1.]\n",
      " [0. 0. 1. 0. 0. 0. 1. 1. 0. 0.]\n",
      " [0. 0. 1. 0. 0. 0. 0. 0. 0. 0.]\n",
      " [0. 0. 0. 0. 0. 0. 1. 1. 1. 0.]\n",
      " [0. 0. 0. 1. 0. 1. 0. 1. 0. 0.]\n",
      " [1. 1. 0. 1. 0. 1. 1. 0. 0. 0.]\n",
      " [0. 1. 0. 0. 0. 1. 0. 0. 0. 1.]\n",
      " [0. 0. 1. 0. 0. 0. 0. 0. 1. 0.]]\n"
     ]
    }
   ],
   "source": [
    "A=np.zeros((10,10))\n",
    "#ici definition d'arete à la main. Pensez à utiliser un autre package pour générer automatiquement les graphs \n",
    "A[0,7]=1;A[7,0]=1;A[1,7]=1;A[7,1]=1;A[1,8]=1;A[8,1]=1;A[2,3]=1;A[3,2]=1;A[2,4]=1;A[4,2]=1;A[2,9]=1;A[9,2]=1;A[3,6]=1\n",
    "A[6,3]=1;A[3,7]=1;A[7,3]=1;A[5,6]=1;A[6,5]=1;A[5,7]=1;A[7,5]=1;A[5,8]=1;A[8,5]=1;A[6,7]=1;A[7,6]=1;A[8,9]=1;A[9,8]=1\n",
    "print(A)"
   ]
  },
  {
   "cell_type": "markdown",
   "id": "ae3cae68",
   "metadata": {},
   "source": [
    "Une fois les deux matrices d'ajacences définient appeler la fonction sigma\n",
    "\n",
    "Dans cette exemple j'utiliserais deux fois la même matrice A."
   ]
  },
  {
   "cell_type": "code",
   "execution_count": 3,
   "id": "4f2f10ba",
   "metadata": {},
   "outputs": [],
   "source": [
    "py=sigmaV1.sigma(A,A,2,0.3)"
   ]
  },
  {
   "cell_type": "markdown",
   "id": "a222b1d7",
   "metadata": {},
   "source": [
    "Les deux correspond au deux matrice d'ajacences des deux graph (dans l'exemple,c'est matrice seront les mêmes.)\n",
    "\n",
    "    -le 2 correspond à la profondeur des arbre générer par cette méthode\n",
    "\n",
    "    -0.3 correspond au p du graph Erdos-Renyi.\n",
    "\n",
    "    -Le retour se fais sous forme de liste où le noeud de G2 associer au noeud X de G1 est à la place X dans la liste ( py[X] ).\n",
    "\n",
    "    -Tous les arguments de sigma peuvent être nommés:\n",
    "\n",
    "    -G1 pour le premier graph, G2 pour le deuxiéme, prof pour la profondeur et p pour p"
   ]
  },
  {
   "cell_type": "code",
   "execution_count": 4,
   "id": "b1866e83",
   "metadata": {},
   "outputs": [],
   "source": [
    "py2=sigmaV1.sigma(prof=2,p=0.3,G1=A,G2=A)"
   ]
  },
  {
   "cell_type": "markdown",
   "id": "78f6f468",
   "metadata": {},
   "source": [
    "Affichage des deux résultat. Attention ils peuvent être différent car les différent chemin sont générer aléatoirement. Deplus si deux noeud de G2 on même valeur de correlation alors on choisie aléatoirement entre les deux."
   ]
  },
  {
   "cell_type": "code",
   "execution_count": 5,
   "id": "5e492802",
   "metadata": {},
   "outputs": [
    {
     "name": "stdout",
     "output_type": "stream",
     "text": [
      "0 = 0\n",
      "1 = 5\n",
      "2 = 7\n",
      "3 = 1\n",
      "4 = 3\n",
      "5 = 4\n",
      "6 = 6\n",
      "7 = 2\n",
      "8 = 8\n",
      "9 = 9\n",
      "\n",
      "0 = 0\n",
      "1 = 1\n",
      "2 = 2\n",
      "3 = 3\n",
      "4 = 4\n",
      "5 = 5\n",
      "6 = 6\n",
      "7 = 7\n",
      "8 = 8\n",
      "9 = 9\n",
      "\n"
     ]
    }
   ],
   "source": [
    "for i in range(len(py)):\n",
    "    print(i,\"=\",py[i])\n",
    "print()\n",
    "for i in range(len(py2)):\n",
    "    print(i,\"=\",py2[i])\n",
    "print()"
   ]
  },
  {
   "cell_type": "markdown",
   "id": "a55b52f1",
   "metadata": {},
   "source": [
    "## Wigner Normal\n",
    "Le passage de graph pour le modèle de Wigner se fait de la même façon que le modèle d'Erdos-Renyi (matrice d'ajacence)"
   ]
  },
  {
   "cell_type": "code",
   "execution_count": 6,
   "id": "4e699126",
   "metadata": {},
   "outputs": [],
   "source": [
    "B=np.zeros((10,10))"
   ]
  },
  {
   "cell_type": "markdown",
   "id": "2d4cf64d",
   "metadata": {},
   "source": [
    "ici definition d'arete à la main. Pensez à utiliser un autre package pour générer automatiquement les graphs \n",
    "\n"
   ]
  },
  {
   "cell_type": "code",
   "execution_count": 7,
   "id": "ace37c81",
   "metadata": {},
   "outputs": [
    {
     "name": "stdout",
     "output_type": "stream",
     "text": [
      "[[-0.46621449  0.01096042  0.05230865 -0.10442761  0.0720668   0.07885965\n",
      "  -0.04446942  0.01960544 -0.16005101  0.06110057]\n",
      " [ 0.01096042  0.30610524 -0.01126805 -0.11493126  0.11164774  0.03423545\n",
      "  -0.06791617 -0.08790931  0.10051113  0.03148928]\n",
      " [ 0.05230865 -0.01126805  0.39996598 -0.11110143  0.01443391  0.26434099\n",
      "   0.12302248  0.02496712 -0.03355023 -0.03685705]\n",
      " [-0.10442761 -0.11493126 -0.11110143 -0.28957532 -0.06986251 -0.02450013\n",
      "  -0.11821199 -0.01030704 -0.06602162  0.07163936]\n",
      " [ 0.0720668   0.11164774  0.01443391 -0.06986251  0.19215546 -0.05996093\n",
      "   0.10765951 -0.07008282 -0.02956327 -0.09552586]\n",
      " [ 0.07885965  0.03423545  0.26434099 -0.02450013 -0.05996093 -0.41684485\n",
      "   0.10812324 -0.13144218  0.10419144  0.07853017]\n",
      " [-0.04446942 -0.06791617  0.12302248 -0.11821199  0.10765951  0.10812324\n",
      "   0.24568417  0.01395778  0.03931925 -0.09214729]\n",
      " [ 0.01960544 -0.08790931  0.02496712 -0.01030704 -0.07008282 -0.13144218\n",
      "   0.01395778 -0.16619429 -0.00679332  0.03536861]\n",
      " [-0.16005101  0.10051113 -0.03355023 -0.06602162 -0.02956327  0.10419144\n",
      "   0.03931925 -0.00679332 -0.18010676 -0.11489381]\n",
      " [ 0.06110057  0.03148928 -0.03685705  0.07163936 -0.09552586  0.07853017\n",
      "  -0.09214729  0.03536861 -0.11489381 -0.09342558]]\n"
     ]
    }
   ],
   "source": [
    "for i in range(B.shape[1]):\n",
    "    for j in range(B.shape[1]):\n",
    "        if (i==j):\n",
    "            B[i,j]=np.random.normal(scale=2/10)\n",
    "        else:\n",
    "            B[i,j]=np.random.normal(scale=1/10)\n",
    "            B[j,i]=B[i,j]\n",
    "print(B)"
   ]
  },
  {
   "cell_type": "markdown",
   "id": "178cc59c",
   "metadata": {},
   "source": [
    "Pour pouvoir utiliser la matrice d'ajacence il faux d'abord spacifier la matrice"
   ]
  },
  {
   "cell_type": "code",
   "execution_count": 8,
   "id": "099f70a1",
   "metadata": {},
   "outputs": [
    {
     "name": "stdout",
     "output_type": "stream",
     "text": [
      "[[0.         0.         0.05230865 0.         0.0720668  0.07885965\n",
      "  0.         0.         0.         0.06110057]\n",
      " [0.         0.30610524 0.         0.         0.11164774 0.\n",
      "  0.         0.         0.10051113 0.        ]\n",
      " [0.05230865 0.         0.39996598 0.         0.         0.26434099\n",
      "  0.12302248 0.         0.         0.        ]\n",
      " [0.         0.         0.         0.         0.         0.\n",
      "  0.         0.         0.         0.07163936]\n",
      " [0.0720668  0.11164774 0.         0.         0.19215546 0.\n",
      "  0.10765951 0.         0.         0.        ]\n",
      " [0.07885965 0.         0.26434099 0.         0.         0.\n",
      "  0.10812324 0.         0.10419144 0.07853017]\n",
      " [0.         0.         0.12302248 0.         0.10765951 0.10812324\n",
      "  0.24568417 0.         0.         0.        ]\n",
      " [0.         0.         0.         0.         0.         0.\n",
      "  0.         0.         0.         0.        ]\n",
      " [0.         0.10051113 0.         0.         0.         0.10419144\n",
      "  0.         0.         0.         0.        ]\n",
      " [0.06110057 0.         0.         0.07163936 0.         0.07853017\n",
      "  0.         0.         0.         0.        ]]\n"
     ]
    }
   ],
   "source": [
    "C=np.zeros((10,10))\n",
    "for i in range(B.shape[1]):\n",
    "    for j in range(B.shape[1]):\n",
    "        if(B[i,j]>0.04):\n",
    "            C[i,j]=B[i,j]\n",
    "print(C)"
   ]
  },
  {
   "cell_type": "markdown",
   "id": "cc14a39a",
   "metadata": {},
   "source": [
    "Une fois les deux matrices d'ajacences définient appeler la fonction sigma\n",
    "Dans cette exemple j'utiliserais deux fois la même matrice C."
   ]
  },
  {
   "cell_type": "code",
   "execution_count": 9,
   "id": "b51a0292",
   "metadata": {},
   "outputs": [
    {
     "name": "stderr",
     "output_type": "stream",
     "text": [
      "File is empty\n",
      "File is empty\n"
     ]
    }
   ],
   "source": [
    "py3=sigmaV1.sigma(C,C,2)"
   ]
  },
  {
   "cell_type": "markdown",
   "id": "7c809cff",
   "metadata": {},
   "source": [
    "Les deux correspond au deux matrice d'ajacences des deux graph (dans l'exemple,c'est matrice seront les mêmes.)\n",
    "    -le 2 correspond à la profondeur des arbre générer par cette méthode\n",
    "    -Pour que les calculs se fasse pour des graph de wigner n'enter pas de p ou donner lui -1\n",
    "    -Les arguments peuvent ici aussi être nommés de la même façon que pour Normal Erdos"
   ]
  },
  {
   "cell_type": "code",
   "execution_count": 10,
   "id": "1bb07e9f",
   "metadata": {},
   "outputs": [
    {
     "name": "stderr",
     "output_type": "stream",
     "text": [
      "File is empty\n",
      "File is empty\n"
     ]
    }
   ],
   "source": [
    "py4=sigmaV1.sigma(C,C,2,-1)"
   ]
  },
  {
   "cell_type": "markdown",
   "id": "986c947c",
   "metadata": {},
   "source": [
    "Affichage des deux résultat. Attention ils peuvent être différent car les différent chemin sont générer aléatoirement. Deplus si deux noeud de G2 on même valeur de correlation alors on choisie aléatoirement entre les deux."
   ]
  },
  {
   "cell_type": "code",
   "execution_count": 11,
   "id": "20ecde36",
   "metadata": {},
   "outputs": [
    {
     "name": "stdout",
     "output_type": "stream",
     "text": [
      "0 = 5\n",
      "1 = 1\n",
      "2 = 2\n",
      "3 = 3\n",
      "4 = 6\n",
      "5 = 0\n",
      "6 = 8\n",
      "7 = 7\n",
      "8 = 4\n",
      "9 = 9\n",
      "\n",
      "0 = 0\n",
      "1 = 1\n",
      "2 = 2\n",
      "3 = 3\n",
      "4 = 8\n",
      "5 = 5\n",
      "6 = 4\n",
      "7 = 7\n",
      "8 = 6\n",
      "9 = 9\n",
      "\n"
     ]
    }
   ],
   "source": [
    "for i in range(len(py3)):\n",
    "    print(i,\"=\",py3[i])\n",
    "print()\n",
    "for i in range(len(py4)):\n",
    "    print(i,\"=\",py4[i])\n",
    "print()"
   ]
  },
  {
   "cell_type": "markdown",
   "id": "d5d3692e",
   "metadata": {},
   "source": [
    "## Choix Arbre de décision\n",
    "Les Graph sont toujours passer de la même façon. Dans les exemples allons réutiliser le graph A"
   ]
  },
  {
   "cell_type": "code",
   "execution_count": 12,
   "id": "80208c6b",
   "metadata": {},
   "outputs": [],
   "source": [
    "A=np.zeros((10,10))"
   ]
  },
  {
   "cell_type": "markdown",
   "id": "d50ab513",
   "metadata": {},
   "source": [
    "ici definition d'arete à la main. Pensez à utiliser un autre package pour générer automatiquement les graphs "
   ]
  },
  {
   "cell_type": "code",
   "execution_count": 13,
   "id": "3d41dd3e",
   "metadata": {},
   "outputs": [
    {
     "name": "stdout",
     "output_type": "stream",
     "text": [
      "[[0. 0. 0. 0. 0. 0. 0. 1. 0. 0.]\n",
      " [0. 0. 0. 0. 0. 0. 0. 1. 1. 0.]\n",
      " [0. 0. 0. 1. 1. 0. 0. 0. 0. 1.]\n",
      " [0. 0. 1. 0. 0. 0. 1. 1. 0. 0.]\n",
      " [0. 0. 1. 0. 0. 0. 0. 0. 0. 0.]\n",
      " [0. 0. 0. 0. 0. 0. 1. 1. 1. 0.]\n",
      " [0. 0. 0. 1. 0. 1. 0. 1. 0. 0.]\n",
      " [1. 1. 0. 1. 0. 1. 1. 0. 0. 0.]\n",
      " [0. 1. 0. 0. 0. 1. 0. 0. 0. 1.]\n",
      " [0. 0. 1. 0. 0. 0. 0. 0. 1. 0.]]\n"
     ]
    }
   ],
   "source": [
    "A[0,7]=1;A[7,0]=1;A[1,7]=1;A[7,1]=1;A[1,8]=1;A[8,1]=1;A[2,3]=1;A[3,2]=1;A[2,4]=1;A[4,2]=1;A[2,9]=1;A[9,2]=1;A[3,6]=1\n",
    "A[6,3]=1;A[3,7]=1;A[7,3]=1;A[5,6]=1;A[6,5]=1;A[5,7]=1;A[7,5]=1;A[5,8]=1;A[8,5]=1;A[6,7]=1;A[7,6]=1;A[8,9]=1;A[9,8]=1\n",
    "print(A)"
   ]
  },
  {
   "cell_type": "markdown",
   "id": "cb5a23d0",
   "metadata": {},
   "source": [
    "Cette fois ci nous allons devoir definir trois fonctions permettant de d'écrire l'arbre ou les statistiques.\n",
    "\n",
    "La première est celle de la classification des noeuds.\n",
    "Cette fonction doit prendre en entre 1:une matrice d'ajacente, 2:un nombre correspondant au nom du noeud, 3: un floatant correspondant à p.\n",
    "Cette fonction retournera un nombre entre 0(compris) et le nombre d'enfant possible dans l'arbre nbchild(non compris).\n",
    "Vous pouvez renvoyer -1 avec cette fonction l'algorithme ne sera pas considèrer dans la classification de l'arbre. Cepandent ce noeud pourra être utilisé dans le calcul de la statistique\n",
    "\n",
    "La seconde fonction correspond à la statistique f.\n",
    "Cette fonction prendra aussi 3 arguments. 1:une matrice d'ajacente, 2:La liste des noeuds(entier) voisin de la feuille, 3: un floatant correspondant à p.\n",
    "Cette fonction renvera le floattant f correspondant a cette liste\n",
    "\n",
    "La Troisième fonction est très similaire la seconde fonction et correspond à la statistique v.\n",
    "Cette fonction prendra aussi 3 arguments. 1:une matrice d'ajacente, 2:La liste des noeuds(entier) voisin de la feuille, 3: un floatant correspondant à p.\n",
    "Cette fonction renvera le floattant v correspondant a cette liste\n",
    "\n",
    "Nous allons faire 2 exemple pour ce cas. Le premier vous expliquera comment marche sigma avec le choix de la règle de décision. Le seconde exemple vous montrera comment mettre plus que 2 enfants.\n",
    "\n",
    "### Exemple 1: reproduction du cas Erdös-Rényi normal\n",
    "fonction de classification des noeuds (plus d'info sur le paragraphe ci dessus)"
   ]
  },
  {
   "cell_type": "code",
   "execution_count": 14,
   "id": "29ec8dfd",
   "metadata": {},
   "outputs": [],
   "source": [
    "def normal_erdo(A,i,x):\n",
    "    if (sum(A[i])<A.shape[1]*x) :\n",
    "        return 0\n",
    "    else :\n",
    "        return 1"
   ]
  },
  {
   "cell_type": "markdown",
   "id": "e589526e",
   "metadata": {},
   "source": [
    "fonction de la statistique f (plus d'info sur le paragraphe ci dessus)"
   ]
  },
  {
   "cell_type": "code",
   "execution_count": 15,
   "id": "11a1fccc",
   "metadata": {},
   "outputs": [],
   "source": [
    "def f(graph_util,liste,p):\n",
    "    retour=0\n",
    "    for i in liste:\n",
    "        retour+=sum(A[i])-A.shape[1]*p-1\n",
    "    return retour"
   ]
  },
  {
   "cell_type": "markdown",
   "id": "dc84f374",
   "metadata": {},
   "source": [
    "fonction de la statistique v (plus d'info sur le paragraphe ci dessus)"
   ]
  },
  {
   "cell_type": "code",
   "execution_count": 16,
   "id": "5f559540",
   "metadata": {},
   "outputs": [],
   "source": [
    "def v(graph_util,liste,p):\n",
    "    retour=len(liste)*A.shape[1]*p*(1-p)\n",
    "    return retour"
   ]
  },
  {
   "cell_type": "markdown",
   "id": "2794f902",
   "metadata": {},
   "source": [
    "Maintenant que les fonctions et les graphs ont été définis nous pouvont appeler sigma. Attention nous devrons passer à sigma le nombre d'enfant maximal de chaque noeud des arbres générés nbchild. Penser a passer p si nécessaire.\n",
    "\n",
    "ici aussi nous pouvont appeler les arguments en les nommants\n",
    "    -nbchild: nombre d'enfant maximal de chaque noeud des arbres générés\n",
    "    -classi: fonction de classification des noeud de chaque graphe.\n",
    "    -f: fonction de la statistique f\n",
    "    -v: fonction de la statistique v"
   ]
  },
  {
   "cell_type": "code",
   "execution_count": 17,
   "id": "2ea6ad7f",
   "metadata": {},
   "outputs": [],
   "source": [
    "y=sigmaV1.sigma(A,A,2,0.3,2,normal_erdo,f,v)"
   ]
  },
  {
   "cell_type": "markdown",
   "id": "71848c5f",
   "metadata": {},
   "source": [
    "Affichage du résultat. Les résultats sont toujours soumis au problème d'aléatoire preciser dans le cas Normal Erdös-Rényi  "
   ]
  },
  {
   "cell_type": "code",
   "execution_count": 18,
   "id": "5f302aca",
   "metadata": {},
   "outputs": [
    {
     "name": "stdout",
     "output_type": "stream",
     "text": [
      "0 = 3\n",
      "1 = 4\n",
      "2 = 2\n",
      "3 = 9\n",
      "4 = 1\n",
      "5 = 5\n",
      "6 = 0\n",
      "7 = 7\n",
      "8 = 8\n",
      "9 = 6\n"
     ]
    }
   ],
   "source": [
    "for i in range(len(y)):\n",
    "    print(i,\"=\",y[i])"
   ]
  },
  {
   "cell_type": "markdown",
   "id": "91396bc8",
   "metadata": {},
   "source": [
    "# Exemple 2: cas avec trois enfant \n",
    "Le nombre d'enfant n'est pas limité et augmente de la même façon.\n",
    "Fonction de classification des noeuds (plus d'info sur le paragraphe ci dessus)"
   ]
  },
  {
   "cell_type": "code",
   "execution_count": 19,
   "id": "3e637914",
   "metadata": {},
   "outputs": [],
   "source": [
    "def three_child(A,i,x):\n",
    "    if (sum(A[i])<=A.shape[1]*x/3) :\n",
    "        return 0\n",
    "    elif (sum(A[i])>=A.shape[1]*x*5/3):\n",
    "        return 1\n",
    "    else:\n",
    "        return 2"
   ]
  },
  {
   "cell_type": "markdown",
   "id": "4e3e4131",
   "metadata": {},
   "source": [
    "fonction de la statistique f (plus d'info sur le paragraphe ci dessus) inchanger"
   ]
  },
  {
   "cell_type": "code",
   "execution_count": 20,
   "id": "dc79ef17",
   "metadata": {},
   "outputs": [],
   "source": [
    "def f(graph_util,liste,p):\n",
    "    retour=0\n",
    "    for i in liste:\n",
    "        retour+=sum(A[i])-A.shape[1]*p-1\n",
    "    return retour"
   ]
  },
  {
   "cell_type": "markdown",
   "id": "e87a8875",
   "metadata": {},
   "source": [
    "fonction de la statistique v (plus d'info sur le paragraphe ci dessus) inchanger"
   ]
  },
  {
   "cell_type": "code",
   "execution_count": 21,
   "id": "a6f8100d",
   "metadata": {},
   "outputs": [],
   "source": [
    "def v(graph_util,liste,p):\n",
    "    retour=len(liste)*A.shape[1]*p*(1-p)\n",
    "    return retour\n",
    "y=sigmaV1.sigma(G1=A,G2=A,prof=2,p=0.3,nbchild=3,clas=three_child,f=f,v=v) "
   ]
  },
  {
   "cell_type": "markdown",
   "id": "24b54d53",
   "metadata": {},
   "source": [
    "affichage du résultat. Les résultats sont toujours soumis au problème d'aléatoire preciser dans le cas Normal Erdös-Rényi"
   ]
  },
  {
   "cell_type": "code",
   "execution_count": 22,
   "id": "0117e98b",
   "metadata": {},
   "outputs": [
    {
     "name": "stdout",
     "output_type": "stream",
     "text": [
      "0 = 0\n",
      "1 = 1\n",
      "2 = 2\n",
      "3 = 5\n",
      "4 = 4\n",
      "5 = 3\n",
      "6 = 7\n",
      "7 = 6\n",
      "8 = 8\n",
      "9 = 9\n"
     ]
    }
   ],
   "source": [
    "for i in range(len(y)):\n",
    "    print(i,\"=\",y[i])"
   ]
  },
  {
   "cell_type": "code",
   "execution_count": null,
   "id": "ab0cd2d6",
   "metadata": {},
   "outputs": [],
   "source": []
  }
 ],
 "metadata": {
  "kernelspec": {
   "display_name": "Python 3 (ipykernel)",
   "language": "python",
   "name": "python3"
  },
  "language_info": {
   "codemirror_mode": {
    "name": "ipython",
    "version": 3
   },
   "file_extension": ".py",
   "mimetype": "text/x-python",
   "name": "python",
   "nbconvert_exporter": "python",
   "pygments_lexer": "ipython3",
   "version": "3.10.5"
  }
 },
 "nbformat": 4,
 "nbformat_minor": 5
}
